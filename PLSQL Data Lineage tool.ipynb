{
 "cells": [
  {
   "cell_type": "markdown",
   "metadata": {},
   "source": [
    "# PLSQL Data Lineage tool"
   ]
  },
  {
   "cell_type": "markdown",
   "metadata": {},
   "source": [
    "With this simple code, you can visualize your PLSQL code to help you understand the flow of data and dependencies in your project.\n",
    "\n",
    "It's a simple code, but seems to be working just fine for me.\n",
    "\n",
    "#### what you need:\n",
    "\n",
    "libraries:\n",
    "- graphviz (conda install -c anaconda graphviz)<br>\n",
    "- pydot (conda install -c anaconda pydot)<br>\n",
    "<br>\n",
    "- your plsql code in 'plsql_code.txt' file in your root directory. <br>\n",
    "- (optinal) List of tables used in PL/SQL 'tables.txt' - if you don't name the schema in your code explicitly <br>\n",
    "\n",
    "Don't forget to first define the functions and lists in the code below.\n"
   ]
  },
  {
   "cell_type": "code",
   "execution_count": 62,
   "metadata": {},
   "outputs": [],
   "source": [
    "from IPython.display import Image, display\n",
    "import pydot\n",
    "import os"
   ]
  },
  {
   "cell_type": "code",
   "execution_count": 63,
   "metadata": {},
   "outputs": [],
   "source": [
    "f = open('plsql_code.txt') #open your plsql code\n",
    "line = f.readline() # read the first line"
   ]
  },
  {
   "cell_type": "code",
   "execution_count": 64,
   "metadata": {},
   "outputs": [],
   "source": [
    "G = pydot.Dot(graph_type=\"digraph\")"
   ]
  },
  {
   "cell_type": "code",
   "execution_count": 65,
   "metadata": {},
   "outputs": [],
   "source": [
    "child_tab = []\n",
    "\n",
    "while line:\n",
    "        # strip trailing spaces and newline\n",
    "        line1 = line.rstrip()  \n",
    "        line = line1.upper()\n",
    "        list_tab = [] \n",
    "        \n",
    "        # process the line\n",
    "        \n",
    "        #1.a get rid of commented code --\n",
    "        if line.find('--') > 0:\n",
    "            line = line[:line.find('--')]\n",
    "        \n",
    "        #1.b get rid of commented code /*\n",
    "        \n",
    "        if line.find('/*') > 0:\n",
    "            line = line[:line.find('/*')]\n",
    "            # process the code before /*\n",
    "            list_tab = find_table(line)\n",
    "            if type(list_tab) == list:\n",
    "                \n",
    "                if find_beggining(line) == 1:\n",
    "                    if len(list_tab) > 0:                    \n",
    "                        child_tab = list_tab[0]\n",
    "                        if child_tab.find('DM') >= 0:\n",
    "                            node = pydot.Node(child_tab, style=\"filled\", fillcolor=\"green\")\n",
    "                        else:\n",
    "                            node = pydot.Node(child_tab, style=\"filled\", fillcolor=\"yellow\")\n",
    "                        G.add_node(node)\n",
    "                else:\n",
    "                    for i in list_tab:\n",
    "                        if len(list_tab) > 0:                            \n",
    "                            parent_tab = i\n",
    "                            if parent_tab.find('DM') >= 0:\n",
    "                                node = pydot.Node(parent_tab, style=\"filled\", fillcolor=\"green\")\n",
    "                            else:\n",
    "                                node = pydot.Node(parent_tab, style=\"filled\", fillcolor=\"yellow\")\n",
    "\n",
    "                            G.add_node(node)\n",
    "                            edge = pydot.Edge(parent_tab,child_tab)\n",
    "                            G.add_edge(edge)\n",
    "\n",
    "\n",
    "            while line.find('*/') < 0:\n",
    "                line = f.readline() \n",
    "            # process the code after /*\n",
    "            line1 = line[line.find('*/')+2:]   \n",
    "            line = line1.upper()\n",
    "        #2. handle the begining of the procedure or package\n",
    "        \n",
    "        line_upper = line.upper()\n",
    "        if line_upper.find('CREATE OR REPLACE') >= 0:\n",
    "            #print(line)\n",
    "            line = f.readline() \n",
    "        \n",
    "        # 3. process plsql code\n",
    "        \n",
    "        list_tab = find_table(line)\n",
    "        if type(list_tab) == list:\n",
    "            \n",
    "            if find_beggining(line) == 1:\n",
    "                if len(list_tab) > 0:    \n",
    "                    child_tab = list_tab[0]\n",
    "                    if child_tab.find('DM') >= 0:\n",
    "                        node = pydot.Node(child_tab, style=\"filled\", fillcolor=\"green\")\n",
    "                    else:\n",
    "                        node = pydot.Node(child_tab, style=\"filled\", fillcolor=\"yellow\")\n",
    "                    G.add_node(node)\n",
    "            else:\n",
    "                for i in list_tab:\n",
    "                    if len(list_tab) > 0:                     \n",
    "                        parent_tab = i\n",
    "                        if parent_tab.find('DM') >= 0:\n",
    "                            node = pydot.Node(parent_tab, style=\"filled\", fillcolor=\"green\")\n",
    "                        else:\n",
    "                            node = pydot.Node(parent_tab, style=\"filled\", fillcolor=\"yellow\")\n",
    "\n",
    "                        G.add_node(node)\n",
    "                        edge = pydot.Edge(parent_tab,child_tab)\n",
    "                        G.add_edge(edge)\n",
    "        # go to next line\n",
    "        line = f.readline() "
   ]
  },
  {
   "cell_type": "code",
   "execution_count": 66,
   "metadata": {},
   "outputs": [],
   "source": [
    "f.close()"
   ]
  },
  {
   "cell_type": "code",
   "execution_count": 67,
   "metadata": {},
   "outputs": [
    {
     "data": {
      "image/png": "[encoded data removed]",
      "text/plain": [
       "<IPython.core.display.Image object>"
      ]
     },
     "metadata": {},
     "output_type": "display_data"
    }
   ],
   "source": [
    "im = Image(G.create_png())\n",
    "display(im)"
   ]
  },
  {
   "cell_type": "markdown",
   "metadata": {},
   "source": [
    "list of schemas where to look for tables"
   ]
  },
  {
   "cell_type": "code",
   "execution_count": 25,
   "metadata": {},
   "outputs": [],
   "source": [
    "schema = ['DM', 'SB'] "
   ]
  },
  {
   "cell_type": "markdown",
   "metadata": {},
   "source": [
    "import list of tables from db catalog to look or (optional)"
   ]
  },
  {
   "cell_type": "code",
   "execution_count": 4,
   "metadata": {},
   "outputs": [],
   "source": [
    "tables = []\n",
    "t = open('tables.txt')\n",
    "line = t.readline()\n",
    "while line:\n",
    "    line = line.rstrip() \n",
    "    tables.append(line.upper())\n",
    "    line = t.readline()\n",
    "t.close()"
   ]
  },
  {
   "cell_type": "markdown",
   "metadata": {},
   "source": [
    "Find table based on defined schema or list of tables"
   ]
  },
  {
   "cell_type": "code",
   "execution_count": 5,
   "metadata": {},
   "outputs": [],
   "source": [
    "def find_table(text):\n",
    "    list_tab = []\n",
    "    for t in schema:\n",
    "        pos_schema = text.find(t)\n",
    "        #print(pos_schema)\n",
    "        if pos_schema > 0:\n",
    "            text_schema = text[pos_schema:]\n",
    "            pos_sp = text_schema.find(' ')\n",
    "            #print(pos_sp)\n",
    "            if pos_sp > 0:\n",
    "                tab = text_schema[:pos_sp]\n",
    "            else:\n",
    "                tab = text_schema\n",
    "            #get rid of ')' at the end of a line\n",
    "            if tab.find(')') > 0:\n",
    "                #print(tab)\n",
    "                tab = tab[:tab.find(')')]\n",
    "            if tab.find('(') > 0:\n",
    "                tab = tab[:tab.find('(')]\n",
    "                #eliminate sequence\n",
    "            if tab.find('NEXTVAL') < 0:\n",
    "                list_tab.append(tab)\n",
    "\n",
    "    if len(list_tab) > 0:\n",
    "        return list_tab\n",
    "   \n",
    "    #look for provided tables\n",
    "   \n",
    "    for t in tables:\n",
    "        if text.find(t) >= 0:\n",
    "            # blank space or new line is required\n",
    "            if text[text.find(t)+len(t):text.find(t)+len(t)+1] == ' ' or text[text.find(t)+len(t):text.find(t)+len(t)+1] == '':\n",
    "                list_tab.append(t)\n",
    "            #print(t)\n",
    "    if len(list_tab) >= 0:\n",
    "        return list_tab"
   ]
  },
  {
   "cell_type": "markdown",
   "metadata": {},
   "source": [
    "detect the beggining of a command "
   ]
  },
  {
   "cell_type": "code",
   "execution_count": 6,
   "metadata": {},
   "outputs": [],
   "source": [
    "sql_start = ['INSERT INTO', 'CREATE TABLE', 'MERGE ', 'UPDATE ']"
   ]
  },
  {
   "cell_type": "code",
   "execution_count": 7,
   "metadata": {},
   "outputs": [],
   "source": [
    "def find_beggining(text):\n",
    "    for t in sql_start:\n",
    "        pos_start = text.find(t)\n",
    "        if pos_start >= 0:\n",
    "            return 1\n",
    "    return 0"
   ]
  }
 ],
 "metadata": {
  "kernelspec": {
   "display_name": "Python 3",
   "language": "python",
   "name": "python3"
  },
  "language_info": {
   "codemirror_mode": {
    "name": "ipython",
    "version": 3
   },
   "file_extension": ".py",
   "mimetype": "text/x-python",
   "name": "python",
   "nbconvert_exporter": "python",
   "pygments_lexer": "ipython3",
   "version": "3.8.5"
  }
 },
 "nbformat": 4,
 "nbformat_minor": 4
}
